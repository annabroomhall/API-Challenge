{
 "cells": [
  {
   "cell_type": "markdown",
   "metadata": {},
   "source": [
    "# WeatherPy\n",
    "----\n",
    "\n",
    "#### Note\n",
    "* Instructions have been included for each segment. You do not have to follow them exactly, but they are included to help you think through the steps.\n"
   ]
  },
  {
   "cell_type": "code",
   "execution_count": 26,
   "metadata": {
    "scrolled": true
   },
   "outputs": [],
   "source": [
    "import matplotlib.pyplot as plt\n",
    "import requests\n",
    "from scipy import stats\n",
    "import pandas as pd\n",
    "from config import weather_api_key\n",
    "from pprint import pprint\n",
    "from citipy import citipy\n",
    "import random as rd\n",
    "\n",
    "url = \"http://api.openweathermap.org/data/2.5/weather?\"\n",
    "units = \"imperial\"\n",
    "\n",
    "# Build partial query URL\n",
    "query_url = f\"{url}appid={weather_api_key}&units={units}&q=\""
   ]
  },
  {
   "cell_type": "markdown",
   "metadata": {},
   "source": [
    "## Generate Cities List"
   ]
  },
  {
   "cell_type": "code",
   "execution_count": 27,
   "metadata": {},
   "outputs": [
    {
     "data": {
      "text/plain": [
       "'new orleans'"
      ]
     },
     "execution_count": 27,
     "metadata": {},
     "output_type": "execute_result"
    }
   ],
   "source": [
    "city_lat = 29.951065\n",
    "city_long = -90.071533\n",
    "\n",
    "nearest_city = citipy.nearest_city(city_lat, city_long)\n",
    "\n",
    "cities = nearest_city.city_name\n",
    "cities"
   ]
  },
  {
   "cell_type": "code",
   "execution_count": 4,
   "metadata": {},
   "outputs": [
    {
     "name": "stdout",
     "output_type": "stream",
     "text": [
      "{'base': 'stations',\n",
      " 'clouds': {'all': 1},\n",
      " 'cod': 200,\n",
      " 'coord': {'lat': 29.9547, 'lon': -90.0751},\n",
      " 'dt': 1615723408,\n",
      " 'id': 4335045,\n",
      " 'main': {'feels_like': 68.65,\n",
      "          'humidity': 94,\n",
      "          'pressure': 1018,\n",
      "          'temp': 66.2,\n",
      "          'temp_max': 68,\n",
      "          'temp_min': 64},\n",
      " 'name': 'New Orleans',\n",
      " 'sys': {'country': 'US',\n",
      "         'id': 3104,\n",
      "         'sunrise': 1615723863,\n",
      "         'sunset': 1615766873,\n",
      "         'type': 1},\n",
      " 'timezone': -18000,\n",
      " 'visibility': 10000,\n",
      " 'weather': [{'description': 'clear sky',\n",
      "              'icon': '01n',\n",
      "              'id': 800,\n",
      "              'main': 'Clear'}],\n",
      " 'wind': {'deg': 160, 'speed': 4.61}}\n"
     ]
    }
   ],
   "source": [
    "response = requests.get(query_url + 'new orleans').json()\n",
    "\n",
    "pprint(response)"
   ]
  },
  {
   "cell_type": "code",
   "execution_count": 28,
   "metadata": {},
   "outputs": [],
   "source": [
    "# create a list that we'll store all our data in\n",
    "city_list = []\n",
    "\n",
    "# create a list of 1000 cities\n",
    "while len(city_list) < 250:\n",
    "    \n",
    "    # set random lat and long\n",
    "    latitude = rd.uniform(-90.0,90.0)\n",
    "    longitude = rd.uniform(-180.0,180.0)\n",
    "    \n",
    "    # get nearest city\n",
    "    city = citipy.nearest_city(latitude,longitude).city_name\n",
    "        \n",
    "    if city not in city_list:\n",
    "        city_list.append(city)"
   ]
  },
  {
   "cell_type": "code",
   "execution_count": 6,
   "metadata": {},
   "outputs": [
    {
     "data": {
      "text/plain": [
       "['rikitea',\n",
       " 'doctor pedro p. pena',\n",
       " 'upernavik',\n",
       " 'cape town',\n",
       " 'bandarbeyla',\n",
       " 'busselton',\n",
       " 'cassilandia',\n",
       " 'grand river south east',\n",
       " 'punta arenas',\n",
       " 'fuerte olimpo',\n",
       " 'bunia',\n",
       " 'xushan',\n",
       " 'ushuaia',\n",
       " 'nanortalik',\n",
       " 'jamestown',\n",
       " 'isangel',\n",
       " 'san vicente',\n",
       " 'humaita',\n",
       " 'sentyabrskiy',\n",
       " 'provideniya',\n",
       " 'erenhot',\n",
       " 'yellowknife',\n",
       " 'bluff',\n",
       " 'hobart',\n",
       " 'hasaki',\n",
       " 'bethel',\n",
       " 'pokhara',\n",
       " 'tuktoyaktuk',\n",
       " 'dikson',\n",
       " 'altamira',\n",
       " 'vaini',\n",
       " 'urengoy',\n",
       " 'puerto ayora',\n",
       " 'soyo',\n",
       " 'mataura',\n",
       " 'immokalee',\n",
       " 'bud',\n",
       " 'hambantota',\n",
       " 'tilichiki',\n",
       " 'hermanus',\n",
       " 'albany',\n",
       " 'abha',\n",
       " 'mitsamiouli',\n",
       " 'atuona',\n",
       " 'bonnyville',\n",
       " 'sisak',\n",
       " 'necochea',\n",
       " 'phangnga',\n",
       " 'qaanaaq',\n",
       " 'tiksi',\n",
       " 'nizhnevartovsk',\n",
       " 'illoqqortoormiut',\n",
       " 'marcona',\n",
       " 'harper',\n",
       " 'waipawa',\n",
       " 'derazhnya',\n",
       " 'san patricio',\n",
       " 'taolanaro',\n",
       " 'hithadhoo',\n",
       " 'mar del plata',\n",
       " 'sur',\n",
       " 'new norfolk',\n",
       " 'road town',\n",
       " 'floriano',\n",
       " 'saldanha',\n",
       " 'faanui',\n",
       " 'comodoro rivadavia',\n",
       " 'gander',\n",
       " 'pevek',\n",
       " 'khatanga',\n",
       " 'san rafael',\n",
       " 'hualmay',\n",
       " 'santa cruz del norte',\n",
       " 'avarua',\n",
       " 'karratha',\n",
       " 'hilo',\n",
       " 'banda aceh',\n",
       " 'pochutla',\n",
       " 'saint-philippe',\n",
       " 'east london',\n",
       " 'henderson',\n",
       " 'thompson',\n",
       " 'hokitika',\n",
       " 'severo-kurilsk',\n",
       " 'romodanovo',\n",
       " 'tamandare',\n",
       " 'kantemirovka',\n",
       " 'bafra',\n",
       " 'mount gambier',\n",
       " 'touros',\n",
       " 'umzimvubu',\n",
       " 'vaitupu',\n",
       " 'chicama',\n",
       " 'zastron',\n",
       " 'nikolskoye',\n",
       " 'deputatskiy',\n",
       " 'halalo',\n",
       " 'port alfred',\n",
       " 'ilulissat',\n",
       " 'peniche',\n",
       " 'altay',\n",
       " 'zabid',\n",
       " 'barcelos',\n",
       " 'esperance',\n",
       " 'anupgarh',\n",
       " 'tumannyy',\n",
       " 'husavik',\n",
       " 'toungoo',\n",
       " 'san isidro',\n",
       " 'fort-shevchenko',\n",
       " 'narsaq',\n",
       " 'belawan',\n",
       " 'amderma',\n",
       " 'samusu',\n",
       " 'hanamaki',\n",
       " 'cap malheureux',\n",
       " 'verkhoyansk',\n",
       " 'arlit',\n",
       " 'lorengau',\n",
       " 'mahebourg',\n",
       " 'konigstein',\n",
       " 'barentsburg',\n",
       " 'kaitangata',\n",
       " 'galiwinku',\n",
       " 'norman wells',\n",
       " 'damietta',\n",
       " 'lakes entrance',\n",
       " 'lagoa',\n",
       " 'roald',\n",
       " 'castro',\n",
       " 'sao filipe',\n",
       " 'ahrarne',\n",
       " 'minab',\n",
       " 'labuan',\n",
       " 'washougal',\n",
       " 'airai',\n",
       " 'chuy',\n",
       " 'chapadinha',\n",
       " 'jiddah',\n",
       " 'luckenwalde',\n",
       " 'belyy yar',\n",
       " 'katsuura',\n",
       " 'arraial do cabo',\n",
       " 'chardara',\n",
       " 'fortuna',\n",
       " 'bhadrapur',\n",
       " 'cidreira',\n",
       " 'butaritari',\n",
       " 'la sarre',\n",
       " 'la ronge',\n",
       " 'prince rupert',\n",
       " 'port elizabeth',\n",
       " 'camacha',\n",
       " 'nemuro',\n",
       " 'neiafu',\n",
       " 'mareeba',\n",
       " 'barinas',\n",
       " 'valparaiso',\n",
       " 'saskylakh',\n",
       " 'mildura',\n",
       " 'makakilo city',\n",
       " 'tabuk',\n",
       " 'kisangani',\n",
       " 'den helder',\n",
       " 'olafsvik',\n",
       " 'aykhal',\n",
       " 'kamiiso',\n",
       " 'havre-saint-pierre',\n",
       " 'port hedland',\n",
       " 'nouakchott',\n",
       " 'tasiilaq',\n",
       " 'pokrovsk',\n",
       " 'port keats',\n",
       " 'santiago',\n",
       " 'do rud',\n",
       " 'nizhneyansk',\n",
       " 'geraldton',\n",
       " 'lasa',\n",
       " 'syamzha',\n",
       " 'padre bernardo',\n",
       " 'yerbogachen',\n",
       " 'naryan-mar',\n",
       " 'bintulu',\n",
       " 'bredasdorp',\n",
       " 'leon valley',\n",
       " 'trelleborg',\n",
       " 'kapaa',\n",
       " 'guerrero negro',\n",
       " 'ponta do sol',\n",
       " 'maniitsoq',\n",
       " 'rungata',\n",
       " 'namatanai',\n",
       " 'zhigansk',\n",
       " 'yulara',\n",
       " 'ous',\n",
       " 'vao',\n",
       " 'polunochnoye',\n",
       " 'ribeira grande',\n",
       " 'auki',\n",
       " 'ambovombe',\n",
       " 'haines junction',\n",
       " 'shubarshi',\n",
       " 'huetamo',\n",
       " 'impfondo',\n",
       " 'cortez',\n",
       " 'mahon',\n",
       " 'puerto carreno',\n",
       " 'gigmoto',\n",
       " 'saint george',\n",
       " 'zuenoula',\n",
       " 'kegayli',\n",
       " 'bambous virieux',\n",
       " 'portland',\n",
       " 'belushya guba',\n",
       " 'faya',\n",
       " 'clyde river',\n",
       " 'mme',\n",
       " 'shingu',\n",
       " 'tyup',\n",
       " 'bengkulu',\n",
       " 'tawkar',\n",
       " 'college',\n",
       " 'novikovo',\n",
       " 'anajatuba',\n",
       " 'beyneu',\n",
       " 'berezovka',\n",
       " 'lakatoro',\n",
       " 'vaitape',\n",
       " 'seddon',\n",
       " 'bay roberts',\n",
       " 'krasnogorskoye',\n",
       " 'bathsheba',\n",
       " 'togur',\n",
       " 'chokurdakh',\n",
       " 'wukari',\n",
       " 'berlevag',\n",
       " 'lucea',\n",
       " 'kruisfontein',\n",
       " 'huron',\n",
       " 'beloha',\n",
       " 'mackay',\n",
       " 'jiuquan',\n",
       " 'bikin',\n",
       " 'attawapiskat',\n",
       " 'torbay',\n",
       " 'chara',\n",
       " 'starokozache',\n",
       " 'bilibino',\n",
       " 'awjilah',\n",
       " 'terney']"
      ]
     },
     "execution_count": 6,
     "metadata": {},
     "output_type": "execute_result"
    }
   ],
   "source": [
    "city_list"
   ]
  },
  {
   "cell_type": "markdown",
   "metadata": {},
   "source": [
    "### Perform API Calls\n",
    "* Perform a weather check on each city using a series of successive API calls.\n",
    "* Include a print log of each city as it'sbeing processed (with the city number and city name).\n"
   ]
  },
  {
   "cell_type": "code",
   "execution_count": 29,
   "metadata": {
    "scrolled": true
   },
   "outputs": [
    {
     "name": "stdout",
     "output_type": "stream",
     "text": [
      "City: Torbay (ID: 6167817) located! Appending stats\n",
      "City: Thompson (ID: 6165406) located! Appending stats\n",
      "City: Norman Wells (ID: 6089245) located! Appending stats\n",
      "City: Hilo (ID: 5855927) located! Appending stats\n",
      "City: La Palma (ID: 5364022) located! Appending stats\n",
      "City: Mayumba (ID: 2399001) located! Appending stats\n",
      "City: Barrow (ID: 5880054) located! Appending stats\n",
      "City: Souillac (ID: 933995) located! Appending stats\n",
      "City: Bow Island (ID: 5906757) located! Appending stats\n",
      "City: Jamestown (ID: 5122534) located! Appending stats\n",
      "City: Hasaki (ID: 2112802) located! Appending stats\n",
      "City: Rikitea (ID: 4030556) located! Appending stats\n",
      "City: Belaya Gora (ID: 2126785) located! Appending stats\n",
      "City: Constantine (ID: 2501152) located! Appending stats\n",
      "City: Ol'ga (ID: 2018553) located! Appending stats\n",
      "City: Dikson (ID: 1507390) located! Appending stats\n",
      "City: Bredasdorp (ID: 1015776) located! Appending stats\n",
      "City: Salalah (ID: 286621) located! Appending stats\n",
      "City: Egvekinot (ID: 4031742) located! Appending stats\n",
      "City: Ojinaga (ID: 3994469) located! Appending stats\n",
      "City: Yellowknife (ID: 6185377) located! Appending stats\n",
      "City: Cabo San Lucas (ID: 3985710) located! Appending stats\n",
      "sentyabrskiy not found - keep running\n",
      "City: Kapaa (ID: 5848280) located! Appending stats\n",
      "City: Lüderitz (ID: 3355672) located! Appending stats\n",
      "City: Arraial do Cabo (ID: 3471451) located! Appending stats\n",
      "marcona not found - keep running\n",
      "City: Nara (ID: 1855612) located! Appending stats\n",
      "taolanaro not found - keep running\n",
      "City: Yumen (ID: 1528998) located! Appending stats\n",
      "City: Nikolskoye (ID: 546105) located! Appending stats\n",
      "City: Lavrentiya (ID: 4031637) located! Appending stats\n",
      "City: Kiama (ID: 2161515) located! Appending stats\n",
      "City: Cape Town (ID: 3369157) located! Appending stats\n",
      "City: Sitka (ID: 5557293) located! Appending stats\n",
      "City: Atuona (ID: 4020109) located! Appending stats\n",
      "City: Santa Rosa (ID: 1687894) located! Appending stats\n",
      "City: Busselton (ID: 2075265) located! Appending stats\n",
      "tumannyy not found - keep running\n",
      "skagastrond not found - keep running\n",
      "City: Camaná (ID: 3945985) located! Appending stats\n",
      "City: Ushuaia (ID: 3833367) located! Appending stats\n",
      "City: Mersing (ID: 1732826) located! Appending stats\n",
      "City: East London (ID: 1006984) located! Appending stats\n",
      "City: Yulara (ID: 6355222) located! Appending stats\n",
      "City: Albany (ID: 5106841) located! Appending stats\n",
      "City: Ayagoz (ID: 1525988) located! Appending stats\n",
      "City: Oodweyne (ID: 53372) located! Appending stats\n",
      "City: Hamilton (ID: 4513583) located! Appending stats\n",
      "City: Avarua (ID: 4035715) located! Appending stats\n",
      "City: Saint Paul Harbor (ID: 5866583) located! Appending stats\n",
      "City: Saint-Philippe (ID: 935215) located! Appending stats\n",
      "City: Pokrov (ID: 507599) located! Appending stats\n",
      "City: Codrington (ID: 2171099) located! Appending stats\n",
      "City: Pevek (ID: 2122090) located! Appending stats\n",
      "City: Port Elizabeth (ID: 964420) located! Appending stats\n",
      "City: Margate (ID: 2643044) located! Appending stats\n",
      "City: Graham (ID: 5795906) located! Appending stats\n",
      "belushya guba not found - keep running\n",
      "City: Tumut (ID: 2145875) located! Appending stats\n",
      "City: Porto-Novo (ID: 2392087) located! Appending stats\n",
      "City: San Patricio (ID: 4726521) located! Appending stats\n",
      "City: Bellmead (ID: 4673389) located! Appending stats\n",
      "City: Ilulissat (ID: 3423146) located! Appending stats\n",
      "City: Vaini (ID: 4032243) located! Appending stats\n",
      "City: Geraldton (ID: 2070998) located! Appending stats\n",
      "City: Mana (ID: 3381041) located! Appending stats\n",
      "City: Pangnirtung (ID: 6096551) located! Appending stats\n",
      "City: Airai (ID: 1651810) located! Appending stats\n",
      "City: Qaanaaq (ID: 3831208) located! Appending stats\n",
      "City: Hofn (ID: 2630299) located! Appending stats\n",
      "City: Jasper (ID: 4392354) located! Appending stats\n",
      "City: Nouadhibou (ID: 2377457) located! Appending stats\n",
      "City: Liverpool (ID: 2644210) located! Appending stats\n",
      "City: Saint George (ID: 5546220) located! Appending stats\n",
      "City: Ambilobe (ID: 1082243) located! Appending stats\n",
      "City: Lagoa (ID: 3372964) located! Appending stats\n",
      "City: Banda Aceh (ID: 1215502) located! Appending stats\n",
      "City: Hobart (ID: 2163355) located! Appending stats\n",
      "City: Tautira (ID: 4033557) located! Appending stats\n",
      "City: Kirakira (ID: 2178753) located! Appending stats\n",
      "City: Puerto Ayora (ID: 3652764) located! Appending stats\n",
      "City: Nanortalik (ID: 3421765) located! Appending stats\n",
      "City: Warmbad (ID: 3352263) located! Appending stats\n",
      "City: Hithadhoo (ID: 1282256) located! Appending stats\n",
      "City: Port Alfred (ID: 964432) located! Appending stats\n",
      "City: Mahibadhoo (ID: 1337605) located! Appending stats\n",
      "City: Rangāpāra (ID: 1258501) located! Appending stats\n",
      "City: Havre-St-Pierre (ID: 5972291) located! Appending stats\n",
      "City: Roald (ID: 3141667) located! Appending stats\n",
      "City: Mataura (ID: 6201424) located! Appending stats\n",
      "City: Bückeburg (ID: 2942159) located! Appending stats\n",
      "City: Puro (ID: 1692364) located! Appending stats\n",
      "City: Brae (ID: 2654970) located! Appending stats\n",
      "City: Zaraza (ID: 3625066) located! Appending stats\n",
      "City: Goba (ID: 336350) located! Appending stats\n",
      "City: Vila Franca do Campo (ID: 3372472) located! Appending stats\n",
      "City: Ostrovnoy (ID: 556268) located! Appending stats\n",
      "City: New Norfolk (ID: 2155415) located! Appending stats\n",
      "City: Guerrero Negro (ID: 4021858) located! Appending stats\n",
      "City: Kavaratti (ID: 1267390) located! Appending stats\n",
      "City: Matara (ID: 1235846) located! Appending stats\n",
      "City: Skellefteå (ID: 602913) located! Appending stats\n",
      "City: Haimen (ID: 1809062) located! Appending stats\n",
      "City: Eydhafushi (ID: 1337606) located! Appending stats\n",
      "attawapiskat not found - keep running\n",
      "City: Løjt Kirkeby (ID: 2617450) located! Appending stats\n",
      "City: Kununurra (ID: 2068110) located! Appending stats\n",
      "City: Paamiut (ID: 3421193) located! Appending stats\n",
      "City: Umluj (ID: 100926) located! Appending stats\n",
      "City: Usinsk (ID: 863061) located! Appending stats\n",
      "City: Este (ID: 3177337) located! Appending stats\n",
      "City: Punta Arenas (ID: 3874787) located! Appending stats\n",
      "City: Chui (ID: 3443061) located! Appending stats\n",
      "City: Dum Duma (ID: 1272242) located! Appending stats\n",
      "City: Aklavik (ID: 5882953) located! Appending stats\n",
      "City: Florø (ID: 3156980) located! Appending stats\n",
      "City: Lusambo (ID: 210379) located! Appending stats\n",
      "City: Hokitika (ID: 2206894) located! Appending stats\n",
      "City: Cururupu (ID: 3401148) located! Appending stats\n",
      "City: Batemans Bay (ID: 2176639) located! Appending stats\n",
      "alotau not found - keep running\n",
      "City: Tornio (ID: 634093) located! Appending stats\n",
      "City: Klaksvík (ID: 2618795) located! Appending stats\n",
      "City: Entebbe (ID: 233508) located! Appending stats\n",
      "City: Bethel (ID: 5282297) located! Appending stats\n",
      "City: Zhigalovo (ID: 2012532) located! Appending stats\n",
      "turtkul not found - keep running\n",
      "City: Hibbing (ID: 5030005) located! Appending stats\n",
      "City: Port-Cartier (ID: 6111696) located! Appending stats\n",
      "City: Bongor (ID: 2434910) located! Appending stats\n",
      "City: Hong Kong (ID: 1819729) located! Appending stats\n",
      "City: Bluff (ID: 2206939) located! Appending stats\n",
      "City: Hermanus (ID: 3366880) located! Appending stats\n",
      "City: Coos Bay (ID: 5720495) located! Appending stats\n",
      "City: Sohag (ID: 347796) located! Appending stats\n",
      "City: Cap Malheureux (ID: 934649) located! Appending stats\n",
      "City: Beringovskiy (ID: 2126710) located! Appending stats\n",
      "City: Provideniya (ID: 4031574) located! Appending stats\n",
      "City: Bāndarban (ID: 1185270) located! Appending stats\n",
      "City: Shabo (ID: 694392) located! Appending stats\n",
      "City: Lagunas (ID: 3695844) located! Appending stats\n",
      "City: Castro (ID: 3466704) located! Appending stats\n",
      "City: Mehamn (ID: 778707) located! Appending stats\n",
      "City: Aberdeen (ID: 2657832) located! Appending stats\n",
      "City: Lianran (ID: 1803886) located! Appending stats\n",
      "scalloway not found - keep running\n",
      "City: Sola (ID: 2134814) located! Appending stats\n",
      "City: Tuktoyaktuk (ID: 6170031) located! Appending stats\n",
      "City: Douentza (ID: 2458334) located! Appending stats\n",
      "City: Chokurdakh (ID: 2126123) located! Appending stats\n",
      "City: Limbang (ID: 1737714) located! Appending stats\n",
      "City: Marovoay (ID: 1059507) located! Appending stats\n",
      "City: Berlevåg (ID: 780687) located! Appending stats\n",
      "City: Nuwara Eliya (ID: 1232783) located! Appending stats\n",
      "City: Fairbanks (ID: 5861897) located! Appending stats\n"
     ]
    },
    {
     "name": "stdout",
     "output_type": "stream",
     "text": [
      "City: Port Macquarie (ID: 2152659) located! Appending stats\n",
      "City: Cidreira (ID: 3466165) located! Appending stats\n",
      "City: Mar del Plata (ID: 3430863) located! Appending stats\n",
      "City: Lusaka (ID: 909137) located! Appending stats\n",
      "City: Bogorodskoye (ID: 575521) located! Appending stats\n",
      "City: Benghazi (ID: 88319) located! Appending stats\n",
      "City: Olafsvik (ID: 3414079) located! Appending stats\n",
      "City: Mogadishu (ID: 53654) located! Appending stats\n",
      "City: Kushmurun (ID: 1519924) located! Appending stats\n",
      "City: Poum (ID: 2138555) located! Appending stats\n",
      "karkaralinsk not found - keep running\n",
      "City: Tura (ID: 1254046) located! Appending stats\n",
      "bolshiye uki not found - keep running\n",
      "City: Yenagoa (ID: 2318123) located! Appending stats\n",
      "City: Bratsk (ID: 2051523) located! Appending stats\n",
      "City: Butaritari (ID: 2110227) located! Appending stats\n",
      "City: Gazli (ID: 1513990) located! Appending stats\n",
      "City: Haines Junction (ID: 5969025) located! Appending stats\n",
      "City: Vanimo (ID: 2084442) located! Appending stats\n",
      "City: Bilibino (ID: 2126682) located! Appending stats\n",
      "City: Krasnoarmeysk (ID: 542464) located! Appending stats\n",
      "City: Tacuarembó (ID: 3440034) located! Appending stats\n",
      "City: Lixouri (ID: 258175) located! Appending stats\n",
      "City: Caravelas (ID: 3466980) located! Appending stats\n",
      "City: Saldanha (ID: 3361934) located! Appending stats\n",
      "utiroa not found - keep running\n",
      "City: Kosa (ID: 544318) located! Appending stats\n",
      "City: Tiksi (ID: 2015306) located! Appending stats\n",
      "City: Ibrā’ (ID: 287832) located! Appending stats\n",
      "City: Millbrook (ID: 4076239) located! Appending stats\n",
      "City: Kānt (ID: 1267979) located! Appending stats\n",
      "City: Port Hardy (ID: 6111862) located! Appending stats\n",
      "grand river south east not found - keep running\n",
      "City: Puerto Baquerizo Moreno (ID: 3652758) located! Appending stats\n",
      "City: Zwedru (ID: 2272491) located! Appending stats\n",
      "City: Grindavik (ID: 3416888) located! Appending stats\n",
      "City: Kahului (ID: 5847411) located! Appending stats\n",
      "City: Loukhi (ID: 533964) located! Appending stats\n",
      "City: Kumul (ID: 1529484) located! Appending stats\n",
      "City: Touros (ID: 3386213) located! Appending stats\n",
      "City: Nichinan (ID: 1855476) located! Appending stats\n",
      "City: George Town (ID: 1735106) located! Appending stats\n",
      "kazalinsk not found - keep running\n",
      "City: Santa Cruz de la Sierra (ID: 3904906) located! Appending stats\n",
      "City: Río Gallegos (ID: 3838859) located! Appending stats\n",
      "City: Obeliai (ID: 596544) located! Appending stats\n",
      "City: Biankouma (ID: 2291666) located! Appending stats\n",
      "City: Faanui (ID: 4034551) located! Appending stats\n",
      "City: Khatanga (ID: 2022572) located! Appending stats\n",
      "City: Blagoveshchensk (ID: 2026609) located! Appending stats\n",
      "City: Moncton (ID: 6076211) located! Appending stats\n",
      "City: Edéa (ID: 2232239) located! Appending stats\n",
      "City: Wukari (ID: 2318921) located! Appending stats\n",
      "City: Richards Bay (ID: 962367) located! Appending stats\n",
      "City: Tibati (ID: 2221530) located! Appending stats\n",
      "City: Mindelo (ID: 3374462) located! Appending stats\n",
      "City: Lebu (ID: 3883457) located! Appending stats\n",
      "City: Kapiri Mposhi (ID: 913029) located! Appending stats\n",
      "City: Southbridge (ID: 4951594) located! Appending stats\n",
      "City: Rio Verde de Mato Grosso (ID: 3451051) located! Appending stats\n",
      "City: Ontario (ID: 5379439) located! Appending stats\n",
      "City: Chicama (ID: 3698359) located! Appending stats\n",
      "City: San Cristobal (ID: 3628473) located! Appending stats\n",
      "City: Burnie (ID: 2173125) located! Appending stats\n",
      "City: Pacific Grove (ID: 5380437) located! Appending stats\n",
      "tsihombe not found - keep running\n",
      "City: Cherskiy (ID: 2126199) located! Appending stats\n",
      "City: Mahébourg (ID: 934322) located! Appending stats\n",
      "City: Lata (ID: 2738381) located! Appending stats\n",
      "City: Kishtwār (ID: 1266475) located! Appending stats\n",
      "saleaula not found - keep running\n",
      "City: Flinders (ID: 6255012) located! Appending stats\n",
      "City: Abnūb (ID: 362973) located! Appending stats\n",
      "barentsburg not found - keep running\n",
      "City: Bandarbeyla (ID: 64814) located! Appending stats\n",
      "City: Nuuk (ID: 3421319) located! Appending stats\n",
      "City: Kaabong (ID: 233093) located! Appending stats\n",
      "City: Lander (ID: 5830007) located! Appending stats\n",
      "City: Samoded (ID: 499025) located! Appending stats\n",
      "City: Carnarvon (ID: 2074865) located! Appending stats\n",
      "City: Fomboni (ID: 921889) located! Appending stats\n",
      "City: Lovozero (ID: 533933) located! Appending stats\n",
      "City: Tasiilaq (ID: 3424607) located! Appending stats\n",
      "City: Antofagasta (ID: 3899539) located! Appending stats\n",
      "City: Kiryat Gat (ID: 293842) located! Appending stats\n",
      "City: Anaconda (ID: 5637146) located! Appending stats\n",
      "City: Papara (ID: 3395473) located! Appending stats\n",
      "City: Pierre (ID: 5767918) located! Appending stats\n",
      "City: Arman' (ID: 2127060) located! Appending stats\n",
      "sedelnikovo not found - keep running\n",
      "City: Mountain Home (ID: 5601615) located! Appending stats\n",
      "City: Zhigansk (ID: 2012530) located! Appending stats\n",
      "City: Abu Dhabi (ID: 292968) located! Appending stats\n",
      "City: Hvide Sande (ID: 2619537) located! Appending stats\n"
     ]
    }
   ],
   "source": [
    "# set up lists to hold reponse info\n",
    "cities = city_list\n",
    "lat = []\n",
    "lng = []\n",
    "max_temp = []\n",
    "humidity = []\n",
    "cloudiness = []\n",
    "wind_speed = []\n",
    "country = []\n",
    "date = []\n",
    "name = []\n",
    "number = []\n",
    "\n",
    "\n",
    "# Loop through the list of cities and perform a request for data on each\n",
    "for city in city_list:\n",
    "    try:\n",
    "        response = requests.get(query_url + city).json()\n",
    "        lat.append(response['coord']['lat'])\n",
    "        lng.append(response['coord']['lon'])\n",
    "        max_temp.append(response['main']['temp_max'])\n",
    "        humidity.append(response['main']['humidity'])\n",
    "        cloudiness.append(response['clouds']['all'])\n",
    "        wind_speed.append(response['wind']['speed'])\n",
    "        country.append(response['sys']['country'])\n",
    "        date.append(response['dt'])\n",
    "        name.append(response['name'])\n",
    "        number.append(response['id'])\n",
    "        print(f\"City: {(response['name'])} (ID: {(response['id'])}) located! Appending stats\")\n",
    "    except:\n",
    "        print(f\"{city} not found - keep running\")\n",
    "    #print(f\"Printing data for: (response[name]) in response['country'])\") - not working \n",
    "\n",
    "#print(f\"Printing data for: {name} in {country}\")"
   ]
  },
  {
   "cell_type": "code",
   "execution_count": 9,
   "metadata": {},
   "outputs": [
    {
     "data": {
      "text/plain": [
       "224"
      ]
     },
     "execution_count": 9,
     "metadata": {},
     "output_type": "execute_result"
    }
   ],
   "source": [
    "len(lat)"
   ]
  },
  {
   "cell_type": "markdown",
   "metadata": {},
   "source": [
    "### Convert Raw Data to DataFrame\n",
    "* Export the city data into a .csv.\n",
    "* Display the DataFrame"
   ]
  },
  {
   "cell_type": "code",
   "execution_count": 10,
   "metadata": {},
   "outputs": [
    {
     "data": {
      "text/html": [
       "<div>\n",
       "<style scoped>\n",
       "    .dataframe tbody tr th:only-of-type {\n",
       "        vertical-align: middle;\n",
       "    }\n",
       "\n",
       "    .dataframe tbody tr th {\n",
       "        vertical-align: top;\n",
       "    }\n",
       "\n",
       "    .dataframe thead th {\n",
       "        text-align: right;\n",
       "    }\n",
       "</style>\n",
       "<table border=\"1\" class=\"dataframe\">\n",
       "  <thead>\n",
       "    <tr style=\"text-align: right;\">\n",
       "      <th></th>\n",
       "      <th>City</th>\n",
       "      <th>Country</th>\n",
       "      <th>City ID</th>\n",
       "      <th>Lat</th>\n",
       "      <th>Long</th>\n",
       "      <th>Max Temp</th>\n",
       "      <th>Humidity</th>\n",
       "      <th>Cloudiness</th>\n",
       "      <th>Wind Speed</th>\n",
       "      <th>Date</th>\n",
       "    </tr>\n",
       "  </thead>\n",
       "  <tbody>\n",
       "    <tr>\n",
       "      <th>0</th>\n",
       "      <td>Rikitea</td>\n",
       "      <td>PF</td>\n",
       "      <td>4030556</td>\n",
       "      <td>-23.1203</td>\n",
       "      <td>-134.9692</td>\n",
       "      <td>79.48</td>\n",
       "      <td>77</td>\n",
       "      <td>80</td>\n",
       "      <td>11.03</td>\n",
       "      <td>1615723692</td>\n",
       "    </tr>\n",
       "    <tr>\n",
       "      <th>1</th>\n",
       "      <td>Upernavik</td>\n",
       "      <td>GL</td>\n",
       "      <td>3418910</td>\n",
       "      <td>72.7868</td>\n",
       "      <td>-56.1549</td>\n",
       "      <td>-0.42</td>\n",
       "      <td>95</td>\n",
       "      <td>100</td>\n",
       "      <td>4.14</td>\n",
       "      <td>1615723693</td>\n",
       "    </tr>\n",
       "    <tr>\n",
       "      <th>2</th>\n",
       "      <td>Cape Town</td>\n",
       "      <td>ZA</td>\n",
       "      <td>3369157</td>\n",
       "      <td>-33.9258</td>\n",
       "      <td>18.4232</td>\n",
       "      <td>69.80</td>\n",
       "      <td>68</td>\n",
       "      <td>75</td>\n",
       "      <td>12.66</td>\n",
       "      <td>1615723600</td>\n",
       "    </tr>\n",
       "    <tr>\n",
       "      <th>3</th>\n",
       "      <td>Bandarbeyla</td>\n",
       "      <td>SO</td>\n",
       "      <td>64814</td>\n",
       "      <td>9.4942</td>\n",
       "      <td>50.8122</td>\n",
       "      <td>81.27</td>\n",
       "      <td>66</td>\n",
       "      <td>0</td>\n",
       "      <td>14.45</td>\n",
       "      <td>1615723694</td>\n",
       "    </tr>\n",
       "    <tr>\n",
       "      <th>4</th>\n",
       "      <td>Busselton</td>\n",
       "      <td>AU</td>\n",
       "      <td>2075265</td>\n",
       "      <td>-33.6500</td>\n",
       "      <td>115.3333</td>\n",
       "      <td>66.00</td>\n",
       "      <td>58</td>\n",
       "      <td>0</td>\n",
       "      <td>10.76</td>\n",
       "      <td>1615723448</td>\n",
       "    </tr>\n",
       "    <tr>\n",
       "      <th>...</th>\n",
       "      <td>...</td>\n",
       "      <td>...</td>\n",
       "      <td>...</td>\n",
       "      <td>...</td>\n",
       "      <td>...</td>\n",
       "      <td>...</td>\n",
       "      <td>...</td>\n",
       "      <td>...</td>\n",
       "      <td>...</td>\n",
       "      <td>...</td>\n",
       "    </tr>\n",
       "    <tr>\n",
       "      <th>219</th>\n",
       "      <td>Chara</td>\n",
       "      <td>RU</td>\n",
       "      <td>2025630</td>\n",
       "      <td>56.9064</td>\n",
       "      <td>118.2631</td>\n",
       "      <td>15.10</td>\n",
       "      <td>90</td>\n",
       "      <td>100</td>\n",
       "      <td>7.45</td>\n",
       "      <td>1615723865</td>\n",
       "    </tr>\n",
       "    <tr>\n",
       "      <th>220</th>\n",
       "      <td>Starokozache</td>\n",
       "      <td>UA</td>\n",
       "      <td>692819</td>\n",
       "      <td>46.3372</td>\n",
       "      <td>29.9853</td>\n",
       "      <td>44.60</td>\n",
       "      <td>87</td>\n",
       "      <td>20</td>\n",
       "      <td>11.18</td>\n",
       "      <td>1615723866</td>\n",
       "    </tr>\n",
       "    <tr>\n",
       "      <th>221</th>\n",
       "      <td>Bilibino</td>\n",
       "      <td>RU</td>\n",
       "      <td>2126682</td>\n",
       "      <td>68.0546</td>\n",
       "      <td>166.4372</td>\n",
       "      <td>-13.04</td>\n",
       "      <td>87</td>\n",
       "      <td>100</td>\n",
       "      <td>3.53</td>\n",
       "      <td>1615723867</td>\n",
       "    </tr>\n",
       "    <tr>\n",
       "      <th>222</th>\n",
       "      <td>Awjilah</td>\n",
       "      <td>LY</td>\n",
       "      <td>88533</td>\n",
       "      <td>29.1081</td>\n",
       "      <td>21.2869</td>\n",
       "      <td>75.49</td>\n",
       "      <td>19</td>\n",
       "      <td>99</td>\n",
       "      <td>15.99</td>\n",
       "      <td>1615723868</td>\n",
       "    </tr>\n",
       "    <tr>\n",
       "      <th>223</th>\n",
       "      <td>Terney</td>\n",
       "      <td>RU</td>\n",
       "      <td>2015352</td>\n",
       "      <td>45.0503</td>\n",
       "      <td>136.6092</td>\n",
       "      <td>36.54</td>\n",
       "      <td>79</td>\n",
       "      <td>100</td>\n",
       "      <td>4.29</td>\n",
       "      <td>1615723869</td>\n",
       "    </tr>\n",
       "  </tbody>\n",
       "</table>\n",
       "<p>224 rows × 10 columns</p>\n",
       "</div>"
      ],
      "text/plain": [
       "             City Country  City ID      Lat      Long  Max Temp  Humidity  \\\n",
       "0         Rikitea      PF  4030556 -23.1203 -134.9692     79.48        77   \n",
       "1       Upernavik      GL  3418910  72.7868  -56.1549     -0.42        95   \n",
       "2       Cape Town      ZA  3369157 -33.9258   18.4232     69.80        68   \n",
       "3     Bandarbeyla      SO    64814   9.4942   50.8122     81.27        66   \n",
       "4       Busselton      AU  2075265 -33.6500  115.3333     66.00        58   \n",
       "..            ...     ...      ...      ...       ...       ...       ...   \n",
       "219         Chara      RU  2025630  56.9064  118.2631     15.10        90   \n",
       "220  Starokozache      UA   692819  46.3372   29.9853     44.60        87   \n",
       "221      Bilibino      RU  2126682  68.0546  166.4372    -13.04        87   \n",
       "222       Awjilah      LY    88533  29.1081   21.2869     75.49        19   \n",
       "223        Terney      RU  2015352  45.0503  136.6092     36.54        79   \n",
       "\n",
       "     Cloudiness  Wind Speed        Date  \n",
       "0            80       11.03  1615723692  \n",
       "1           100        4.14  1615723693  \n",
       "2            75       12.66  1615723600  \n",
       "3             0       14.45  1615723694  \n",
       "4             0       10.76  1615723448  \n",
       "..          ...         ...         ...  \n",
       "219         100        7.45  1615723865  \n",
       "220          20       11.18  1615723866  \n",
       "221         100        3.53  1615723867  \n",
       "222          99       15.99  1615723868  \n",
       "223         100        4.29  1615723869  \n",
       "\n",
       "[224 rows x 10 columns]"
      ]
     },
     "execution_count": 10,
     "metadata": {},
     "output_type": "execute_result"
    }
   ],
   "source": [
    "city_data = pd.DataFrame({\n",
    "                                  \"City\": name,\n",
    "                                  \"Country\": country,\n",
    "                                  \"City ID\": number,\n",
    "                                  \"Lat\": lat,\n",
    "                                  \"Long\": lng,\n",
    "                                  \"Max Temp\": max_temp,\n",
    "                                  \"Humidity\": humidity,\n",
    "                                  \"Cloudiness\": cloudiness,\n",
    "                                  \"Wind Speed\": wind_speed,\n",
    "                                  \"Date\": date\n",
    "                                 })\n",
    "\n",
    "city_data"
   ]
  },
  {
   "cell_type": "code",
   "execution_count": 11,
   "metadata": {},
   "outputs": [
    {
     "data": {
      "text/plain": [
       "224"
      ]
     },
     "execution_count": 11,
     "metadata": {},
     "output_type": "execute_result"
    }
   ],
   "source": [
    "city_data_clean = city_data.drop_duplicates(subset=['City'])\n",
    "\n",
    "len(city_data_clean)"
   ]
  },
  {
   "cell_type": "code",
   "execution_count": 12,
   "metadata": {},
   "outputs": [],
   "source": [
    "city_data_clean.to_csv('citydataclean.csv', index=False)"
   ]
  },
  {
   "cell_type": "markdown",
   "metadata": {},
   "source": [
    "## Inspect the data and remove the cities where the humidity > 100%.\n",
    "----\n",
    "Skip this step if there are no cities that have humidity > 100%. "
   ]
  },
  {
   "cell_type": "code",
   "execution_count": 25,
   "metadata": {},
   "outputs": [],
   "source": [
    "#BROOM'S WAY OF IDENTIFYING AND DROPPING TOO HUMID CITIES\n",
    "#city_data_toohumid = city_data_clean.loc[city_data_clean['Humidity'] > 100]\n",
    "#city_data_toohumid\n",
    "#city_data_lesshumidity = city_data_clean.loc[city_data_clean['Humidity'] <= 100]\n"
   ]
  },
  {
   "cell_type": "code",
   "execution_count": 22,
   "metadata": {},
   "outputs": [
    {
     "data": {
      "text/plain": [
       "Int64Index([15, 25, 26, 29, 62, 66, 103, 119, 136, 140, 189, 217], dtype='int64')"
      ]
     },
     "execution_count": 22,
     "metadata": {},
     "output_type": "execute_result"
    }
   ],
   "source": [
    "#  Get the indices of cities that have humidity over 100%.\n",
    "indexNames = city_data_clean[city_data_clean['Humidity'] > 95].index"
   ]
  },
  {
   "cell_type": "code",
   "execution_count": 24,
   "metadata": {},
   "outputs": [
    {
     "data": {
      "text/html": [
       "<div>\n",
       "<style scoped>\n",
       "    .dataframe tbody tr th:only-of-type {\n",
       "        vertical-align: middle;\n",
       "    }\n",
       "\n",
       "    .dataframe tbody tr th {\n",
       "        vertical-align: top;\n",
       "    }\n",
       "\n",
       "    .dataframe thead th {\n",
       "        text-align: right;\n",
       "    }\n",
       "</style>\n",
       "<table border=\"1\" class=\"dataframe\">\n",
       "  <thead>\n",
       "    <tr style=\"text-align: right;\">\n",
       "      <th></th>\n",
       "      <th>City</th>\n",
       "      <th>Country</th>\n",
       "      <th>City ID</th>\n",
       "      <th>Lat</th>\n",
       "      <th>Long</th>\n",
       "      <th>Max Temp</th>\n",
       "      <th>Humidity</th>\n",
       "      <th>Cloudiness</th>\n",
       "      <th>Wind Speed</th>\n",
       "      <th>Date</th>\n",
       "    </tr>\n",
       "  </thead>\n",
       "  <tbody>\n",
       "    <tr>\n",
       "      <th>0</th>\n",
       "      <td>Rikitea</td>\n",
       "      <td>PF</td>\n",
       "      <td>4030556</td>\n",
       "      <td>-23.1203</td>\n",
       "      <td>-134.9692</td>\n",
       "      <td>79.48</td>\n",
       "      <td>77</td>\n",
       "      <td>80</td>\n",
       "      <td>11.03</td>\n",
       "      <td>1615723692</td>\n",
       "    </tr>\n",
       "    <tr>\n",
       "      <th>1</th>\n",
       "      <td>Upernavik</td>\n",
       "      <td>GL</td>\n",
       "      <td>3418910</td>\n",
       "      <td>72.7868</td>\n",
       "      <td>-56.1549</td>\n",
       "      <td>-0.42</td>\n",
       "      <td>95</td>\n",
       "      <td>100</td>\n",
       "      <td>4.14</td>\n",
       "      <td>1615723693</td>\n",
       "    </tr>\n",
       "    <tr>\n",
       "      <th>2</th>\n",
       "      <td>Cape Town</td>\n",
       "      <td>ZA</td>\n",
       "      <td>3369157</td>\n",
       "      <td>-33.9258</td>\n",
       "      <td>18.4232</td>\n",
       "      <td>69.80</td>\n",
       "      <td>68</td>\n",
       "      <td>75</td>\n",
       "      <td>12.66</td>\n",
       "      <td>1615723600</td>\n",
       "    </tr>\n",
       "    <tr>\n",
       "      <th>3</th>\n",
       "      <td>Bandarbeyla</td>\n",
       "      <td>SO</td>\n",
       "      <td>64814</td>\n",
       "      <td>9.4942</td>\n",
       "      <td>50.8122</td>\n",
       "      <td>81.27</td>\n",
       "      <td>66</td>\n",
       "      <td>0</td>\n",
       "      <td>14.45</td>\n",
       "      <td>1615723694</td>\n",
       "    </tr>\n",
       "    <tr>\n",
       "      <th>4</th>\n",
       "      <td>Busselton</td>\n",
       "      <td>AU</td>\n",
       "      <td>2075265</td>\n",
       "      <td>-33.6500</td>\n",
       "      <td>115.3333</td>\n",
       "      <td>66.00</td>\n",
       "      <td>58</td>\n",
       "      <td>0</td>\n",
       "      <td>10.76</td>\n",
       "      <td>1615723448</td>\n",
       "    </tr>\n",
       "    <tr>\n",
       "      <th>...</th>\n",
       "      <td>...</td>\n",
       "      <td>...</td>\n",
       "      <td>...</td>\n",
       "      <td>...</td>\n",
       "      <td>...</td>\n",
       "      <td>...</td>\n",
       "      <td>...</td>\n",
       "      <td>...</td>\n",
       "      <td>...</td>\n",
       "      <td>...</td>\n",
       "    </tr>\n",
       "    <tr>\n",
       "      <th>219</th>\n",
       "      <td>Chara</td>\n",
       "      <td>RU</td>\n",
       "      <td>2025630</td>\n",
       "      <td>56.9064</td>\n",
       "      <td>118.2631</td>\n",
       "      <td>15.10</td>\n",
       "      <td>90</td>\n",
       "      <td>100</td>\n",
       "      <td>7.45</td>\n",
       "      <td>1615723865</td>\n",
       "    </tr>\n",
       "    <tr>\n",
       "      <th>220</th>\n",
       "      <td>Starokozache</td>\n",
       "      <td>UA</td>\n",
       "      <td>692819</td>\n",
       "      <td>46.3372</td>\n",
       "      <td>29.9853</td>\n",
       "      <td>44.60</td>\n",
       "      <td>87</td>\n",
       "      <td>20</td>\n",
       "      <td>11.18</td>\n",
       "      <td>1615723866</td>\n",
       "    </tr>\n",
       "    <tr>\n",
       "      <th>221</th>\n",
       "      <td>Bilibino</td>\n",
       "      <td>RU</td>\n",
       "      <td>2126682</td>\n",
       "      <td>68.0546</td>\n",
       "      <td>166.4372</td>\n",
       "      <td>-13.04</td>\n",
       "      <td>87</td>\n",
       "      <td>100</td>\n",
       "      <td>3.53</td>\n",
       "      <td>1615723867</td>\n",
       "    </tr>\n",
       "    <tr>\n",
       "      <th>222</th>\n",
       "      <td>Awjilah</td>\n",
       "      <td>LY</td>\n",
       "      <td>88533</td>\n",
       "      <td>29.1081</td>\n",
       "      <td>21.2869</td>\n",
       "      <td>75.49</td>\n",
       "      <td>19</td>\n",
       "      <td>99</td>\n",
       "      <td>15.99</td>\n",
       "      <td>1615723868</td>\n",
       "    </tr>\n",
       "    <tr>\n",
       "      <th>223</th>\n",
       "      <td>Terney</td>\n",
       "      <td>RU</td>\n",
       "      <td>2015352</td>\n",
       "      <td>45.0503</td>\n",
       "      <td>136.6092</td>\n",
       "      <td>36.54</td>\n",
       "      <td>79</td>\n",
       "      <td>100</td>\n",
       "      <td>4.29</td>\n",
       "      <td>1615723869</td>\n",
       "    </tr>\n",
       "  </tbody>\n",
       "</table>\n",
       "<p>212 rows × 10 columns</p>\n",
       "</div>"
      ],
      "text/plain": [
       "             City Country  City ID      Lat      Long  Max Temp  Humidity  \\\n",
       "0         Rikitea      PF  4030556 -23.1203 -134.9692     79.48        77   \n",
       "1       Upernavik      GL  3418910  72.7868  -56.1549     -0.42        95   \n",
       "2       Cape Town      ZA  3369157 -33.9258   18.4232     69.80        68   \n",
       "3     Bandarbeyla      SO    64814   9.4942   50.8122     81.27        66   \n",
       "4       Busselton      AU  2075265 -33.6500  115.3333     66.00        58   \n",
       "..            ...     ...      ...      ...       ...       ...       ...   \n",
       "219         Chara      RU  2025630  56.9064  118.2631     15.10        90   \n",
       "220  Starokozache      UA   692819  46.3372   29.9853     44.60        87   \n",
       "221      Bilibino      RU  2126682  68.0546  166.4372    -13.04        87   \n",
       "222       Awjilah      LY    88533  29.1081   21.2869     75.49        19   \n",
       "223        Terney      RU  2015352  45.0503  136.6092     36.54        79   \n",
       "\n",
       "     Cloudiness  Wind Speed        Date  \n",
       "0            80       11.03  1615723692  \n",
       "1           100        4.14  1615723693  \n",
       "2            75       12.66  1615723600  \n",
       "3             0       14.45  1615723694  \n",
       "4             0       10.76  1615723448  \n",
       "..          ...         ...         ...  \n",
       "219         100        7.45  1615723865  \n",
       "220          20       11.18  1615723866  \n",
       "221         100        3.53  1615723867  \n",
       "222          99       15.99  1615723868  \n",
       "223         100        4.29  1615723869  \n",
       "\n",
       "[212 rows x 10 columns]"
      ]
     },
     "execution_count": 24,
     "metadata": {},
     "output_type": "execute_result"
    }
   ],
   "source": [
    "# Make a new DataFrame equal to the city data to drop all humidity outliers by index.\n",
    "city_data_lesshumid  = city_data_clean.drop(indexNames, inplace=False)\n",
    "# Passing \"inplace=False\" will make a copy of the city_data DataFrame, which we call \"clean_city_data\".\n",
    "\n",
    "\n",
    "city_data_lesshumid"
   ]
  },
  {
   "cell_type": "code",
   "execution_count": null,
   "metadata": {},
   "outputs": [],
   "source": [
    "\n"
   ]
  },
  {
   "cell_type": "markdown",
   "metadata": {},
   "source": [
    "## Plotting the Data\n",
    "* Use proper labeling of the plots using plot titles (including date of analysis) and axes labels.\n",
    "* Save the plotted figures as .pngs."
   ]
  },
  {
   "cell_type": "markdown",
   "metadata": {},
   "source": [
    "## Latitude vs. Temperature Plot"
   ]
  },
  {
   "cell_type": "code",
   "execution_count": 65,
   "metadata": {
    "scrolled": true
   },
   "outputs": [
    {
     "data": {
      "image/png": "[encoded data removed]",
      "text/plain": [
       "<Figure size 432x288 with 1 Axes>"
      ]
     },
     "metadata": {
      "needs_background": "light"
     },
     "output_type": "display_data"
    }
   ],
   "source": [
    "# Generate a scatter plot of latitude versus temperature\n",
    "\n",
    "#set data for scatter plot\n",
    "lat = city_data.iloc[:,2]\n",
    "max_temp = city_data.iloc[:,4]\n",
    "plt.scatter(max_temp,lat)\n",
    "\n",
    "#Add labels and title to scatter plot\n",
    "#plt.xticks(max_temp)\n",
    "plt.xlabel('Max Temperature')\n",
    "plt.ylabel('Latitude')\n",
    "plt.title(\"Latitude vs. Temperature on 13/03/2021\")\n",
    "plt.show()"
   ]
  },
  {
   "cell_type": "markdown",
   "metadata": {},
   "source": [
    "## Latitude vs. Humidity Plot"
   ]
  },
  {
   "cell_type": "code",
   "execution_count": 66,
   "metadata": {},
   "outputs": [
    {
     "data": {
      "image/png": "[encoded data removed]",
      "text/plain": [
       "<Figure size 432x288 with 1 Axes>"
      ]
     },
     "metadata": {
      "needs_background": "light"
     },
     "output_type": "display_data"
    }
   ],
   "source": [
    "# Generate a scatter plot of latitude versus humidity\n",
    "\n",
    "#set data for scatter plot\n",
    "lat = city_data.iloc[:,2]\n",
    "humidity = city_data.iloc[:,5]\n",
    "plt.scatter(humidity,lat)\n",
    "\n",
    "#Add labels and title to scatter plot\n",
    "#plt.xticks(max_temp)\n",
    "plt.xlabel('Humidity')\n",
    "plt.ylabel('Latitude')\n",
    "plt.title(\"Latitude vs. Humidity on 13/03/2021\")\n",
    "plt.show()"
   ]
  },
  {
   "cell_type": "markdown",
   "metadata": {},
   "source": [
    "## Latitude vs. Cloudiness Plot"
   ]
  },
  {
   "cell_type": "code",
   "execution_count": 67,
   "metadata": {},
   "outputs": [
    {
     "data": {
      "image/png": "[encoded data removed]",
      "text/plain": [
       "<Figure size 432x288 with 1 Axes>"
      ]
     },
     "metadata": {
      "needs_background": "light"
     },
     "output_type": "display_data"
    }
   ],
   "source": [
    "# Generate a scatter plot of latitude versus cloudiness\n",
    "\n",
    "#set data for scatter plot\n",
    "lat = city_data.iloc[:,2]\n",
    "cloudiness = city_data.iloc[:,6]\n",
    "plt.scatter(cloudiness,lat)\n",
    "\n",
    "#Add labels and title to scatter plot\n",
    "#plt.xticks(max_temp)\n",
    "plt.xlabel('Cloudiness')\n",
    "plt.ylabel('Latitude')\n",
    "plt.title(\"Latitude vs. Cloudiness on 13/03/2021\")\n",
    "plt.show()"
   ]
  },
  {
   "cell_type": "markdown",
   "metadata": {},
   "source": [
    "## Latitude vs. Wind Speed Plot"
   ]
  },
  {
   "cell_type": "code",
   "execution_count": 68,
   "metadata": {},
   "outputs": [
    {
     "data": {
      "image/png": "[encoded data removed]",
      "text/plain": [
       "<Figure size 432x288 with 1 Axes>"
      ]
     },
     "metadata": {
      "needs_background": "light"
     },
     "output_type": "display_data"
    }
   ],
   "source": [
    "# Generate a scatter plot of latitude versus wind speed\n",
    "\n",
    "#set data for scatter plot\n",
    "lat = city_data.iloc[:,2]\n",
    "wind_speed = city_data.iloc[:,7]\n",
    "plt.scatter(wind_speed,lat)\n",
    "\n",
    "#Add labels and title to scatter plot\n",
    "#plt.xticks(max_temp)\n",
    "plt.xlabel('Wind Speed')\n",
    "plt.ylabel('Latitude')\n",
    "plt.title(\"Latitude vs. Wind Speed on 13/03/2021\")\n",
    "plt.show()"
   ]
  },
  {
   "cell_type": "markdown",
   "metadata": {},
   "source": [
    "## Linear Regression"
   ]
  },
  {
   "cell_type": "code",
   "execution_count": 69,
   "metadata": {},
   "outputs": [],
   "source": [
    "#Data by Hemisphere\n",
    "\n",
    "# Create the bins in which Data will be held\n",
    "bins = [-90, 0, 90]\n",
    "\n",
    "# Names for the bins\n",
    "hemisphere = [\"Southern Hemisphere\", \"Northern Hemisphere\"]\n",
    "\n",
    "# Add bins to city_data table\n",
    "city_data[\"Hemisphere\"] = pd.cut(city_data[\"Lat\"], \n",
    "                                          bins, labels=hemisphere, include_lowest=True)\n",
    "\n",
    "city_data_north = city_data.loc[city_data['Hemisphere'] == 'Northern Hemisphere']\n",
    "city_data_south = city_data.loc[city_data['Hemisphere'] == 'Southern Hemisphere']"
   ]
  },
  {
   "cell_type": "markdown",
   "metadata": {},
   "source": [
    "####  Northern Hemisphere - Max Temp vs. Latitude Linear Regression"
   ]
  },
  {
   "cell_type": "code",
   "execution_count": 71,
   "metadata": {},
   "outputs": [
    {
     "data": {
      "image/png": "[encoded data removed]",
      "text/plain": [
       "<Figure size 432x288 with 1 Axes>"
      ]
     },
     "metadata": {
      "needs_background": "light"
     },
     "output_type": "display_data"
    }
   ],
   "source": [
    "# Generate a scatter plot of latitude versus temperature in Northern Hemisphere\n",
    "\n",
    "#set data for scatter plot\n",
    "lat = city_data_north.iloc[:,2]\n",
    "max_temp = city_data_north.iloc[:,4]\n",
    "plt.scatter(lat,max_temp)\n",
    "\n",
    "nmt_slope, nmt_int, nmt_r, nmt_p, nmt_std_err = stats.linregress(lat,max_temp)\n",
    "nmt_regress = lat * nmt_slope + nmt_int\n",
    "\n",
    "#Plot linear regression\n",
    "plt.plot(lat,nmt_regress,\"r-\",linewidth=1)\n",
    "\n",
    "#Annotate linear regression\n",
    "line_eq = \"y = \" + str(round(nmt_slope,2)) + \"x + \" + str(round(nmt_int,2))\n",
    "plt.annotate(line_eq,(30,60),fontsize = 15,color = \"red\")\n",
    "\n",
    "\n",
    "#Add labels and title to scatter plot\n",
    "#plt.xticks(max_temp)\n",
    "plt.ylabel('Max Temperature')\n",
    "plt.xlabel('Latitude')\n",
    "plt.title(\"Northern Hemisphere Temperature vs Latitude on 13/03/2021\")\n",
    "plt.show()\n",
    "\n"
   ]
  },
  {
   "cell_type": "markdown",
   "metadata": {},
   "source": [
    "####  Southern Hemisphere - Max Temp vs. Latitude Linear Regression"
   ]
  },
  {
   "cell_type": "code",
   "execution_count": 88,
   "metadata": {},
   "outputs": [
    {
     "data": {
      "image/png": "[encoded data removed]",
      "text/plain": [
       "<Figure size 432x288 with 1 Axes>"
      ]
     },
     "metadata": {
      "needs_background": "light"
     },
     "output_type": "display_data"
    }
   ],
   "source": [
    "# Generate a scatter plot of latitude versus temperature in Southern Hemisphere\n",
    "\n",
    "#set data for scatter plot\n",
    "lat = city_data_south.iloc[:,2]\n",
    "max_temp = city_data_south.iloc[:,4]\n",
    "plt.scatter(lat,max_temp)\n",
    "\n",
    "smt_slope, smt_int, smt_r, smt_p, smt_std_err = stats.linregress(lat,max_temp)\n",
    "smt_regress = lat * smt_slope + smt_int\n",
    "\n",
    "#Plot linear regression\n",
    "plt.plot(lat,smt_regress,\"r-\",linewidth=1)\n",
    "\n",
    "#Annotate linear regression\n",
    "line_eq = \"y = \" + str(round(smt_slope,2)) + \"x + \" + str(round(smt_int,2))\n",
    "plt.annotate(line_eq,(-55,95),fontsize = 15,color = \"red\")\n",
    "\n",
    "\n",
    "#Add labels and title to scatter plot\n",
    "#plt.xticks(max_temp)\n",
    "plt.ylabel('Max Temperature')\n",
    "plt.xlabel('Latitude')\n",
    "plt.xlim(-60,0)\n",
    "plt.title(\"Southern Hemisphere Temperature vs Latitude on 13/03/2021\")\n",
    "plt.show()\n"
   ]
  },
  {
   "cell_type": "markdown",
   "metadata": {},
   "source": [
    "####  Northern Hemisphere - Humidity (%) vs. Latitude Linear Regression"
   ]
  },
  {
   "cell_type": "code",
   "execution_count": 107,
   "metadata": {},
   "outputs": [
    {
     "data": {
      "image/png": "[encoded data removed]",
      "text/plain": [
       "<Figure size 432x288 with 1 Axes>"
      ]
     },
     "metadata": {
      "needs_background": "light"
     },
     "output_type": "display_data"
    }
   ],
   "source": [
    "# Generate a scatter plot of latitude versus humidity\n",
    "\n",
    "#set data for scatter plot\n",
    "lat = city_data_north.iloc[:,2]\n",
    "humidity = city_data_north.iloc[:,5]\n",
    "plt.scatter(lat, humidity)\n",
    "\n",
    "nh_slope, nh_int, nh_r, nh_p, nh_std_err = stats.linregress(lat, humidity)\n",
    "nh_regress = humidity * nh_slope + nh_int\n",
    "\n",
    "#Plot linear regression\n",
    "plt.plot(humidity,nh_regress,\"r-\",linewidth=1)\n",
    "\n",
    "#Annotate linear regression\n",
    "line_eq = \"y = \" + str(round(nh_slope,2)) + \"x + \" + str(round(nh_int,2))\n",
    "plt.annotate(line_eq,(60,30),fontsize = 15,color = \"red\")\n",
    "\n",
    "#Add labels and title to scatter plot\n",
    "#plt.xticks(max_temp)\n",
    "plt.ylabel('Humidity')\n",
    "plt.xlabel('Latitude')\n",
    "plt.title(\"Northern Hemisphere Humidity vs. Latitude on 13/03/2021\")\n",
    "plt.show()"
   ]
  },
  {
   "cell_type": "markdown",
   "metadata": {},
   "source": [
    "####  Southern Hemisphere - Humidity (%) vs. Latitude Linear Regression"
   ]
  },
  {
   "cell_type": "code",
   "execution_count": 105,
   "metadata": {},
   "outputs": [
    {
     "data": {
      "image/png": "[encoded data removed]",
      "text/plain": [
       "<Figure size 432x288 with 1 Axes>"
      ]
     },
     "metadata": {
      "needs_background": "light"
     },
     "output_type": "display_data"
    }
   ],
   "source": [
    "# Generate a scatter plot of latitude versus humidity\n",
    "\n",
    "#set data for scatter plot\n",
    "lat = city_data_south.iloc[:,2]\n",
    "humidity = city_data_south.iloc[:,5]\n",
    "plt.scatter(lat, humidity)\n",
    "\n",
    "sh_slope, sh_int, sh_r, sh_p, sh_std_err = stats.linregress(lat, humidity)\n",
    "sh_regress = humidity * sh_slope + sh_int\n",
    "\n",
    "#Plot linear regression\n",
    "plt.plot(humidity,sh_regress,\"r-\",linewidth=1)\n",
    "\n",
    "#Annotate linear regression\n",
    "line_eq = \"y = \" + str(round(sh_slope,2)) + \"x + \" + str(round(sh_int,2))\n",
    "plt.annotate(line_eq,(-65,90),fontsize = 15,color = \"red\")\n",
    "\n",
    "#Add labels and title to scatter plot\n",
    "#plt.xticks(max_temp)\n",
    "plt.ylabel('Humidity')\n",
    "plt.xlabel('Latitude')\n",
    "#plt.xlim(-70,0)\n",
    "plt.title(\"Southern Hemisphere Humidity vs. Latitude on 13/03/2021\")\n",
    "plt.show()"
   ]
  },
  {
   "cell_type": "markdown",
   "metadata": {},
   "source": [
    "####  Northern Hemisphere - Cloudiness (%) vs. Latitude Linear Regression"
   ]
  },
  {
   "cell_type": "code",
   "execution_count": 92,
   "metadata": {},
   "outputs": [
    {
     "data": {
      "image/png": "[encoded data removed]",
      "text/plain": [
       "<Figure size 432x288 with 1 Axes>"
      ]
     },
     "metadata": {
      "needs_background": "light"
     },
     "output_type": "display_data"
    }
   ],
   "source": [
    "# Generate a scatter plot of latitude versus cloudiness\n",
    "\n",
    "#set data for scatter plot\n",
    "lat = city_data_north.iloc[:,2]\n",
    "cloudiness = city_data_north.iloc[:,6]\n",
    "plt.scatter(lat, cloudiness)\n",
    "\n",
    "nc_slope, nc_int, nc_r, nc_p, nc_std_err = stats.linregress(lat, cloudiness)\n",
    "nc_regress = cloudiness * nc_slope + nc_int\n",
    "\n",
    "#Plot linear regression\n",
    "plt.plot(cloudiness,nc_regress,\"r-\",linewidth=1)\n",
    "\n",
    "#Annotate linear regression\n",
    "line_eq = \"y = \" + str(round(nc_slope,2)) + \"x + \" + str(round(nc_int,2))\n",
    "plt.annotate(line_eq,(60,40),fontsize = 15,color = \"red\")\n",
    "\n",
    "#Add labels and title to scatter plot\n",
    "#plt.xticks(max_temp)\n",
    "plt.ylabel('Cloudiness')\n",
    "plt.xlabel('Latitude')\n",
    "plt.title(\"Northern Hemisphere Cloudiness vs Latitude on 13/03/2021\")\n",
    "plt.show()"
   ]
  },
  {
   "cell_type": "markdown",
   "metadata": {},
   "source": [
    "####  Southern Hemisphere - Cloudiness (%) vs. Latitude Linear Regression"
   ]
  },
  {
   "cell_type": "code",
   "execution_count": 104,
   "metadata": {},
   "outputs": [
    {
     "data": {
      "image/png": "[encoded data removed]",
      "text/plain": [
       "<Figure size 432x288 with 1 Axes>"
      ]
     },
     "metadata": {
      "needs_background": "light"
     },
     "output_type": "display_data"
    }
   ],
   "source": [
    "# Generate a scatter plot of latitude versus cloudiness\n",
    "\n",
    "#set data for scatter plot\n",
    "lat = city_data_south.iloc[:,2]\n",
    "cloudiness = city_data_south.iloc[:,6]\n",
    "plt.scatter(lat, cloudiness)\n",
    "\n",
    "sc_slope, sc_int, sc_r, sc_p, sc_std_err = stats.linregress(lat, cloudiness)\n",
    "sc_regress = cloudiness * sc_slope + sc_int\n",
    "\n",
    "#Plot linear regression\n",
    "plt.plot(cloudiness,sc_regress,\"r-\",linewidth=1)\n",
    "\n",
    "#Annotate linear regression\n",
    "line_eq = \"y = \" + str(round(sc_slope,2)) + \"x + \" + str(round(sc_int,2))\n",
    "plt.annotate(line_eq,(-10,60),fontsize = 15,color = \"red\")\n",
    "\n",
    "#Add labels and title to scatter plot\n",
    "#plt.xticks(max_temp)\n",
    "plt.ylabel('Cloudiness')\n",
    "plt.xlabel('Latitude')\n",
    "plt.xlim(-60,20)\n",
    "plt.ylim(-10,110)\n",
    "plt.title(\"Southern Hemisphere Cloudiness vs Latitude on 13/03/2021\")\n",
    "plt.show()"
   ]
  },
  {
   "cell_type": "markdown",
   "metadata": {},
   "source": [
    "####  Northern Hemisphere - Wind Speed (mph) vs. Latitude Linear Regression"
   ]
  },
  {
   "cell_type": "code",
   "execution_count": 102,
   "metadata": {},
   "outputs": [
    {
     "data": {
      "image/png": "[encoded data removed]",
      "text/plain": [
       "<Figure size 432x288 with 1 Axes>"
      ]
     },
     "metadata": {
      "needs_background": "light"
     },
     "output_type": "display_data"
    }
   ],
   "source": [
    "# Generate a scatter plot of latitude versus Wind Speed (mph)\n",
    "\n",
    "#set data for scatter plot\n",
    "lat = city_data_north.iloc[:,2]\n",
    "windspeed = city_data_north.iloc[:,7]\n",
    "plt.scatter(lat, windspeed)\n",
    "\n",
    "nws_slope, nws_int, nws_r, nws_p, nws_std_err = stats.linregress(lat, windspeed)\n",
    "nws_regress = windspeed * nws_slope + nws_int\n",
    "\n",
    "#Plot linear regression\n",
    "plt.plot(windspeed,nws_regress,\"r-\",linewidth=1)\n",
    "\n",
    "#Annotate linear regression\n",
    "line_eq = \"y = \" + str(round(nws_slope,2)) + \"x + \" + str(round(nws_int,2))\n",
    "plt.annotate(line_eq,(5,25),fontsize = 15,color = \"red\")\n",
    "\n",
    "#Add labels and title to scatter plot\n",
    "#plt.xticks(max_temp)\n",
    "plt.ylabel('Wind Speed (mph)')\n",
    "plt.xlabel('Latitude')\n",
    "plt.title(\"Northern Hemisphere Wind Speed (mph) vs Latitude on 13/03/2021\")\n",
    "plt.show()"
   ]
  },
  {
   "cell_type": "markdown",
   "metadata": {},
   "source": [
    "####  Southern Hemisphere - Wind Speed (mph) vs. Latitude Linear Regression"
   ]
  },
  {
   "cell_type": "code",
   "execution_count": 101,
   "metadata": {},
   "outputs": [
    {
     "data": {
      "image/png": "[encoded data removed]",
      "text/plain": [
       "<Figure size 432x288 with 1 Axes>"
      ]
     },
     "metadata": {
      "needs_background": "light"
     },
     "output_type": "display_data"
    }
   ],
   "source": [
    "# Generate a scatter plot of latitude versus Wind Speed (mph)\n",
    "\n",
    "#set data for scatter plot\n",
    "lat = city_data_south.iloc[:,2]\n",
    "windspeed = city_data_south.iloc[:,7]\n",
    "plt.scatter(lat, windspeed)\n",
    "\n",
    "sws_slope, sws_int, sws_r, sws_p, sws_std_err = stats.linregress(lat, windspeed)\n",
    "sws_regress = windspeed * sws_slope + sws_int\n",
    "\n",
    "#Plot linear regression\n",
    "plt.plot(windspeed,sws_regress,\"r-\",linewidth=1)\n",
    "\n",
    "#Annotate linear regression\n",
    "line_eq = \"y = \" + str(round(sws_slope,2)) + \"x + \" + str(round(sws_int,2))\n",
    "plt.annotate(line_eq,(-10,30),fontsize = 15,color = \"red\")\n",
    "\n",
    "#Add labels and title to scatter plot\n",
    "#plt.xticks(max_temp)\n",
    "plt.ylabel('Wind Speed (mph)')\n",
    "plt.xlabel('Latitude')\n",
    "plt.title(\"Southern Hemisphere Wind Speed (mph) vs Latitude on 13/03/2021\")\n",
    "plt.show()"
   ]
  },
  {
   "cell_type": "code",
   "execution_count": null,
   "metadata": {},
   "outputs": [],
   "source": []
  }
 ],
 "metadata": {
  "anaconda-cloud": {},
  "kernel_info": {
   "name": "python3"
  },
  "kernelspec": {
   "display_name": "Python 3",
   "language": "python",
   "name": "python3"
  },
  "language_info": {
   "codemirror_mode": {
    "name": "ipython",
    "version": 3
   },
   "file_extension": ".py",
   "mimetype": "text/x-python",
   "name": "python",
   "nbconvert_exporter": "python",
   "pygments_lexer": "ipython3",
   "version": "3.8.5"
  },
  "latex_envs": {
   "LaTeX_envs_menu_present": true,
   "autoclose": false,
   "autocomplete": true,
   "bibliofile": "biblio.bib",
   "cite_by": "apalike",
   "current_citInitial": 1,
   "eqLabelWithNumbers": true,
   "eqNumInitial": 1,
   "hotkeys": {
    "equation": "Ctrl-E",
    "itemize": "Ctrl-I"
   },
   "labels_anchors": false,
   "latex_user_defs": false,
   "report_style_numbering": false,
   "user_envs_cfg": false
  },
  "nteract": {
   "version": "0.12.3"
  }
 },
 "nbformat": 4,
 "nbformat_minor": 2
}
